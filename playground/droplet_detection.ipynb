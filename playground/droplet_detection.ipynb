{
 "cells": [
  {
   "cell_type": "code",
   "execution_count": 63,
   "metadata": {},
   "outputs": [],
   "source": [
    "import csv\n",
    "# import cv2\n",
    "import logging\n",
    "import matplotlib.pyplot as plt\n",
    "import numpy as np\n",
    "import os\n",
    "import skimage.feature\n",
    "import skimage.io\n",
    "from typing import List, Optional, Tuple\n",
    "\n",
    "logging.root.setLevel(logging.INFO)\n",
    "\n",
    "\n",
    "IMAGE_PARSE_COUNT = 3\n",
    "CIRCLE_OUTLINE_COLOR = (0, 255, 255)\n",
    "\n",
    "\n",
    "Image = np.ndarray\n",
    "Circle = Tuple[int, int, int]"
   ]
  },
  {
   "cell_type": "code",
   "execution_count": 64,
   "metadata": {},
   "outputs": [],
   "source": [
    "def write_csv(output_filename: str, circles: List[Circle]) -> None:\n",
    "    output_dir = os.path.dirname(output_filename)\n",
    "    if not os.path.exists(output_dir):\n",
    "        os.makedirs(output_dir)\n",
    "    with open(output_filename, 'w', newline='') as csvfile:\n",
    "        fieldnames = ['x', 'y', 'radius']\n",
    "        writer = csv.DictWriter(csvfile, fieldnames=fieldnames)\n",
    "        writer.writeheader()\n",
    "        for (x, y, r) in circles:\n",
    "            writer.writerow({'x': x, 'y': y, 'radius': r})\n",
    "\n",
    "\n",
    "def write_processed_frame(img: Image, circles: List[Circle], output_filename: str) -> None:\n",
    "    img_with_circles = draw_circles(img, circles)\n",
    "    skimage.io.imsave(output_filename, (img_with_circles * 255).astype(np.uint8))\n",
    "\n",
    "\n",
    "def find_circles(img: Image, possible_radii: np.ndarray = np.arange(500, 700, 50)) -> Tuple[np.ndarray, np.ndarray, np.ndarray]:\n",
    "    logging.info(\"Finding circles...\")\n",
    "    logging.info(f\"Shapes {img.shape}, {possible_radii}\")\n",
    "    hough_res = skimage.transform.hough_circle(img, possible_radii)\n",
    "    accums, cx, cy, radii = skimage.transform.hough_circle_peaks(\n",
    "        hough_res, possible_radii, total_num_peaks=2, min_xdistance=10, min_ydistance=10)\n",
    "    radii = radii.astype(np.int64)\n",
    "    logging.info(\"Done finding circles.\")\n",
    "    return cx, cy, radii\n",
    "\n",
    "\n",
    "def draw_circles(img: Image, circles: List[Circle], color: Tuple[float] = (1.0, 0.0, 1.0)) -> Image:\n",
    "    for center_x, center_y, radius in circles:\n",
    "        circy, circx = skimage.draw.circle_perimeter(center_y, center_x, radius)\n",
    "        img[circy, circx] = color\n",
    "    return img\n",
    "\n",
    "\n",
    "def edges_image(img: Image, sigma: int = 25, low_threshold: float = 0.9, high_threshold: float = 0.95) -> Image:\n",
    "    gray_img = img\n",
    "    if gray_img.shape[-1] in (3, 4):\n",
    "        gray_img = gray_img[:,:,0]\n",
    "    # gray_img = skimage.feature.canny(\n",
    "    #     gray_img,\n",
    "    #     sigma=sigma,\n",
    "    #     low_threshold=low_threshold,\n",
    "    #     high_threshold=high_threshold,\n",
    "    #     use_quantiles=True)\n",
    "    return gray_img\n",
    "\n",
    "\n",
    "def prep(img: Image) -> Image:\n",
    "    scaler = 4\n",
    "    img = skimage.transform.resize(img, (img.shape[0] // scaler, img.shape[1] // scaler))\n",
    "    return img\n",
    "\n",
    "\n",
    "def main() -> None:\n",
    "    all_frames = os.listdir('data/frames_raw')\n",
    "    for filename in all_frames[:IMAGE_PARSE_COUNT]:\n",
    "        logging.info(f\"Processing {filename}...\")\n",
    "        process_image(filename)\n",
    "        logging.info(f\"Done processing {filename}.\")"
   ]
  },
  {
   "cell_type": "code",
   "execution_count": 65,
   "metadata": {},
   "outputs": [],
   "source": [
    "def process_image(filename: str, input_dir: str = 'data/frames_raw', output_dir: str = 'data/frames_processed') -> None:\n",
    "    img = skimage.io.imread(os.path.join(input_dir, filename))\n",
    "    img = edges_image(img)\n",
    "    img = prep(img)\n",
    "    circle_proportion = 0.3\n",
    "    cx, cy, radii = find_circles(\n",
    "        img, possible_radii=np.arange(\n",
    "            img.shape[1] * circle_proportion - 100,\n",
    "            img.shape[1] * circle_proportion + 100,\n",
    "            10))\n",
    "    if len(img.shape) == 2:\n",
    "        img = np.expand_dims(img, axis=-1) * np.ones([len(img), len(img[0]), 3])   \n",
    "    circles = list(zip(cx, cy, radii))\n",
    "    write_processed_frame(img, circles, os.path.join(output_dir, filename))\n",
    "    write_csv(os.path.join(output_dir, f'{filename.removesuffix(\".png\")}.csv'), circles)"
   ]
  },
  {
   "cell_type": "code",
   "execution_count": 66,
   "metadata": {},
   "outputs": [
    {
     "name": "stderr",
     "output_type": "stream",
     "text": [
      "INFO:root:Finding circles...\n",
      "INFO:root:Shapes (270, 480), [ 44.  54.  64.  74.  84.  94. 104. 114. 124. 134. 144. 154. 164. 174.\n",
      " 184. 194. 204. 214. 224. 234.]\n",
      "INFO:root:Done finding circles.\n"
     ]
    }
   ],
   "source": [
    "process_image(\"frame000.png\")"
   ]
  },
  {
   "cell_type": "code",
   "execution_count": 5,
   "metadata": {},
   "outputs": [
    {
     "data": {
      "text/plain": [
       "'2'"
      ]
     },
     "execution_count": 5,
     "metadata": {},
     "output_type": "execute_result"
    }
   ],
   "source": [
    "import PIL\n",
    "from PIL.PngImagePlugin import PngInfo\n",
    "\n",
    "img = PIL.Image.open(\"data/frames_processed/frame000.png\")\n",
    "img.text[\"droplet1_x\"]"
   ]
  },
  {
   "cell_type": "code",
   "execution_count": null,
   "metadata": {},
   "outputs": [],
   "source": []
  }
 ],
 "metadata": {
  "kernelspec": {
   "display_name": ".venv",
   "language": "python",
   "name": "python3"
  },
  "language_info": {
   "codemirror_mode": {
    "name": "ipython",
    "version": 3
   },
   "file_extension": ".py",
   "mimetype": "text/x-python",
   "name": "python",
   "nbconvert_exporter": "python",
   "pygments_lexer": "ipython3",
   "version": "3.11.8"
  }
 },
 "nbformat": 4,
 "nbformat_minor": 2
}
